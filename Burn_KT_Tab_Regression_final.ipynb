{
 "cells": [
  {
   "cell_type": "markdown",
   "metadata": {
    "id": "UQGplQijWRmL"
   },
   "source": [
    "### Predict the employee burn out rate\n",
    "https://www.hackerearth.com/ru/challenges/competitive/hackerearth-machine-learning-challenge-predict-burnout-rate/machine-learning/predict-the-employee-burn-out-rate-7-6340b4e3/\n",
    "\n",
    "Author: Victor Krasilnikov\n",
    "\n",
    "Score = 93,11590"
   ]
  },
  {
   "cell_type": "markdown",
   "metadata": {
    "id": "WYz2brVzWImQ"
   },
   "source": [
    "Classification and Regression on Tabular Data with ktrain (https://github.com/amaiya/ktrain)\n",
    "\n",
    "https://nbviewer.jupyter.org/github/amaiya/ktrain/blob/develop/tutorials/tutorial-08-tabular_classification_and_regression.ipynb"
   ]
  },
  {
   "cell_type": "markdown",
   "metadata": {
    "id": "bN1l7D6Y_RrU"
   },
   "source": [
    "## Download Necessary Packages"
   ]
  },
  {
   "cell_type": "code",
   "execution_count": 1,
   "metadata": {
    "colab": {
     "base_uri": "https://localhost:8080/"
    },
    "id": "jMWO4fNE_Rri",
    "outputId": "5df0fb40-2663-46cf-e69f-6d1f1575982e"
   },
   "outputs": [
    {
     "name": "stdout",
     "output_type": "stream",
     "text": [
      "\u001b[K     |████████████████████████████████| 25.3MB 179kB/s \n",
      "\u001b[K     |████████████████████████████████| 983kB 41.1MB/s \n",
      "\u001b[K     |████████████████████████████████| 266kB 45.6MB/s \n",
      "\u001b[K     |████████████████████████████████| 1.3MB 41.2MB/s \n",
      "\u001b[K     |████████████████████████████████| 471kB 45.9MB/s \n",
      "\u001b[K     |████████████████████████████████| 2.9MB 43.0MB/s \n",
      "\u001b[K     |████████████████████████████████| 890kB 40.3MB/s \n",
      "\u001b[K     |████████████████████████████████| 1.1MB 31.2MB/s \n",
      "\u001b[?25h  Building wheel for ktrain (setup.py) ... \u001b[?25l\u001b[?25hdone\n",
      "  Building wheel for keras-bert (setup.py) ... \u001b[?25l\u001b[?25hdone\n",
      "  Building wheel for langdetect (setup.py) ... \u001b[?25l\u001b[?25hdone\n",
      "  Building wheel for seqeval (setup.py) ... \u001b[?25l\u001b[?25hdone\n",
      "  Building wheel for syntok (setup.py) ... \u001b[?25l\u001b[?25hdone\n",
      "  Building wheel for keras-transformer (setup.py) ... \u001b[?25l\u001b[?25hdone\n",
      "  Building wheel for sacremoses (setup.py) ... \u001b[?25l\u001b[?25hdone\n",
      "  Building wheel for keras-pos-embd (setup.py) ... \u001b[?25l\u001b[?25hdone\n",
      "  Building wheel for keras-multi-head (setup.py) ... \u001b[?25l\u001b[?25hdone\n",
      "  Building wheel for keras-layer-normalization (setup.py) ... \u001b[?25l\u001b[?25hdone\n",
      "  Building wheel for keras-position-wise-feed-forward (setup.py) ... \u001b[?25l\u001b[?25hdone\n",
      "  Building wheel for keras-embed-sim (setup.py) ... \u001b[?25l\u001b[?25hdone\n",
      "  Building wheel for keras-self-attention (setup.py) ... \u001b[?25l\u001b[?25hdone\n"
     ]
    }
   ],
   "source": [
    "import sys\n",
    "#!pip install numpy\n",
    "#!pip install pandas\n",
    "!pip install -q ktrain"
   ]
  },
  {
   "cell_type": "markdown",
   "metadata": {
    "id": "I615IMJl7GCI"
   },
   "source": [
    "## Download data"
   ]
  },
  {
   "cell_type": "code",
   "execution_count": 2,
   "metadata": {
    "colab": {
     "base_uri": "https://localhost:8080/"
    },
    "id": "Lz8mAVRrBqsZ",
    "outputId": "177fce1f-e239-4615-8cd2-4af26c8196f3"
   },
   "outputs": [
    {
     "name": "stdout",
     "output_type": "stream",
     "text": [
      "Mounted at /content/gdrive\n"
     ]
    }
   ],
   "source": [
    "from google.colab import drive\n",
    "drive.mount('/content/gdrive')"
   ]
  },
  {
   "cell_type": "code",
   "execution_count": 3,
   "metadata": {
    "id": "m43bhnD_B56H"
   },
   "outputs": [],
   "source": [
    "!unzip -q /content/gdrive/My\\ Drive/Datasets/BURN.zip"
   ]
  },
  {
   "cell_type": "code",
   "execution_count": 4,
   "metadata": {
    "colab": {
     "base_uri": "https://localhost:8080/"
    },
    "id": "jyCAtyP2Af44",
    "outputId": "db6ccd1a-2631-4c7c-9c62-17e1caf3ba31",
    "scrolled": true
   },
   "outputs": [
    {
     "name": "stdout",
     "output_type": "stream",
     "text": [
      "sample_submission.csv  test.csv  train.csv\n"
     ]
    }
   ],
   "source": [
    "!ls dataset"
   ]
  },
  {
   "cell_type": "markdown",
   "metadata": {
    "id": "f-X_y1nI_Rso"
   },
   "source": [
    "## Import packages"
   ]
  },
  {
   "cell_type": "code",
   "execution_count": 5,
   "metadata": {
    "colab": {
     "base_uri": "https://localhost:8080/",
     "height": 35
    },
    "id": "GkGDW4DPBqs9",
    "outputId": "0be47e0e-7af3-4660-ba38-ffb914f26899"
   },
   "outputs": [
    {
     "data": {
      "application/vnd.google.colaboratory.intrinsic+json": {
       "type": "string"
      },
      "text/plain": [
       "'2.3.0'"
      ]
     },
     "execution_count": 5,
     "metadata": {
      "tags": []
     },
     "output_type": "execute_result"
    }
   ],
   "source": [
    "import tensorflow as tf\n",
    "tf.__version__"
   ]
  },
  {
   "cell_type": "code",
   "execution_count": 6,
   "metadata": {
    "colab": {
     "base_uri": "https://localhost:8080/",
     "height": 35
    },
    "id": "xlUfUEIywKaM",
    "outputId": "9f1ede5b-7d43-4c30-b052-86d67aa96901"
   },
   "outputs": [
    {
     "data": {
      "application/vnd.google.colaboratory.intrinsic+json": {
       "type": "string"
      },
      "text/plain": [
       "'0.25.0'"
      ]
     },
     "execution_count": 6,
     "metadata": {
      "tags": []
     },
     "output_type": "execute_result"
    }
   ],
   "source": [
    "import ktrain\n",
    "from ktrain import tabular\n",
    "import pandas as pd\n",
    "import numpy as np\n",
    "ktrain.__version__"
   ]
  },
  {
   "cell_type": "markdown",
   "metadata": {
    "id": "g6f-iK93phJI"
   },
   "source": [
    "## STEP 1: Load and Preprocess the Data"
   ]
  },
  {
   "cell_type": "code",
   "execution_count": 163,
   "metadata": {
    "id": "2xuJH39vwKWc"
   },
   "outputs": [],
   "source": [
    "train=pd.read_csv('dataset/train.csv')\n",
    "test=pd.read_csv('dataset/test.csv')\n"
   ]
  },
  {
   "cell_type": "code",
   "execution_count": 164,
   "metadata": {
    "colab": {
     "base_uri": "https://localhost:8080/",
     "height": 436
    },
    "id": "mmQ2GYOFzgR6",
    "outputId": "56be5184-9492-4aa0-aad7-0d140698e942"
   },
   "outputs": [
    {
     "data": {
      "text/html": [
       "<div>\n",
       "<style scoped>\n",
       "    .dataframe tbody tr th:only-of-type {\n",
       "        vertical-align: middle;\n",
       "    }\n",
       "\n",
       "    .dataframe tbody tr th {\n",
       "        vertical-align: top;\n",
       "    }\n",
       "\n",
       "    .dataframe thead th {\n",
       "        text-align: right;\n",
       "    }\n",
       "</style>\n",
       "<table border=\"1\" class=\"dataframe\">\n",
       "  <thead>\n",
       "    <tr style=\"text-align: right;\">\n",
       "      <th></th>\n",
       "      <th>Employee ID</th>\n",
       "      <th>Date of Joining</th>\n",
       "      <th>Gender</th>\n",
       "      <th>Company Type</th>\n",
       "      <th>WFH Setup Available</th>\n",
       "      <th>Designation</th>\n",
       "      <th>Resource Allocation</th>\n",
       "      <th>Mental Fatigue Score</th>\n",
       "      <th>Burn Rate</th>\n",
       "    </tr>\n",
       "  </thead>\n",
       "  <tbody>\n",
       "    <tr>\n",
       "      <th>0</th>\n",
       "      <td>fffe32003000360033003200</td>\n",
       "      <td>2008-09-30</td>\n",
       "      <td>Female</td>\n",
       "      <td>Service</td>\n",
       "      <td>No</td>\n",
       "      <td>2.0</td>\n",
       "      <td>3.0</td>\n",
       "      <td>3.8</td>\n",
       "      <td>0.16</td>\n",
       "    </tr>\n",
       "    <tr>\n",
       "      <th>1</th>\n",
       "      <td>fffe3700360033003500</td>\n",
       "      <td>2008-11-30</td>\n",
       "      <td>Male</td>\n",
       "      <td>Service</td>\n",
       "      <td>Yes</td>\n",
       "      <td>1.0</td>\n",
       "      <td>2.0</td>\n",
       "      <td>5.0</td>\n",
       "      <td>0.36</td>\n",
       "    </tr>\n",
       "    <tr>\n",
       "      <th>2</th>\n",
       "      <td>fffe31003300320037003900</td>\n",
       "      <td>2008-03-10</td>\n",
       "      <td>Female</td>\n",
       "      <td>Product</td>\n",
       "      <td>Yes</td>\n",
       "      <td>2.0</td>\n",
       "      <td>NaN</td>\n",
       "      <td>5.8</td>\n",
       "      <td>0.49</td>\n",
       "    </tr>\n",
       "    <tr>\n",
       "      <th>3</th>\n",
       "      <td>fffe32003400380032003900</td>\n",
       "      <td>2008-11-03</td>\n",
       "      <td>Male</td>\n",
       "      <td>Service</td>\n",
       "      <td>Yes</td>\n",
       "      <td>1.0</td>\n",
       "      <td>1.0</td>\n",
       "      <td>2.6</td>\n",
       "      <td>0.20</td>\n",
       "    </tr>\n",
       "    <tr>\n",
       "      <th>4</th>\n",
       "      <td>fffe31003900340031003600</td>\n",
       "      <td>2008-07-24</td>\n",
       "      <td>Female</td>\n",
       "      <td>Service</td>\n",
       "      <td>No</td>\n",
       "      <td>3.0</td>\n",
       "      <td>7.0</td>\n",
       "      <td>6.9</td>\n",
       "      <td>0.52</td>\n",
       "    </tr>\n",
       "    <tr>\n",
       "      <th>...</th>\n",
       "      <td>...</td>\n",
       "      <td>...</td>\n",
       "      <td>...</td>\n",
       "      <td>...</td>\n",
       "      <td>...</td>\n",
       "      <td>...</td>\n",
       "      <td>...</td>\n",
       "      <td>...</td>\n",
       "      <td>...</td>\n",
       "    </tr>\n",
       "    <tr>\n",
       "      <th>22745</th>\n",
       "      <td>fffe31003500370039003100</td>\n",
       "      <td>2008-12-30</td>\n",
       "      <td>Female</td>\n",
       "      <td>Service</td>\n",
       "      <td>No</td>\n",
       "      <td>1.0</td>\n",
       "      <td>3.0</td>\n",
       "      <td>NaN</td>\n",
       "      <td>0.41</td>\n",
       "    </tr>\n",
       "    <tr>\n",
       "      <th>22746</th>\n",
       "      <td>fffe33003000350031003800</td>\n",
       "      <td>2008-01-19</td>\n",
       "      <td>Female</td>\n",
       "      <td>Product</td>\n",
       "      <td>Yes</td>\n",
       "      <td>3.0</td>\n",
       "      <td>6.0</td>\n",
       "      <td>6.7</td>\n",
       "      <td>0.59</td>\n",
       "    </tr>\n",
       "    <tr>\n",
       "      <th>22747</th>\n",
       "      <td>fffe390032003000</td>\n",
       "      <td>2008-11-05</td>\n",
       "      <td>Male</td>\n",
       "      <td>Service</td>\n",
       "      <td>Yes</td>\n",
       "      <td>3.0</td>\n",
       "      <td>7.0</td>\n",
       "      <td>NaN</td>\n",
       "      <td>0.72</td>\n",
       "    </tr>\n",
       "    <tr>\n",
       "      <th>22748</th>\n",
       "      <td>fffe33003300320036003900</td>\n",
       "      <td>2008-01-10</td>\n",
       "      <td>Female</td>\n",
       "      <td>Service</td>\n",
       "      <td>No</td>\n",
       "      <td>2.0</td>\n",
       "      <td>5.0</td>\n",
       "      <td>5.9</td>\n",
       "      <td>0.52</td>\n",
       "    </tr>\n",
       "    <tr>\n",
       "      <th>22749</th>\n",
       "      <td>fffe3400350031003800</td>\n",
       "      <td>2008-01-06</td>\n",
       "      <td>Male</td>\n",
       "      <td>Product</td>\n",
       "      <td>No</td>\n",
       "      <td>3.0</td>\n",
       "      <td>6.0</td>\n",
       "      <td>7.8</td>\n",
       "      <td>0.61</td>\n",
       "    </tr>\n",
       "  </tbody>\n",
       "</table>\n",
       "<p>22750 rows × 9 columns</p>\n",
       "</div>"
      ],
      "text/plain": [
       "                    Employee ID  ... Burn Rate\n",
       "0      fffe32003000360033003200  ...      0.16\n",
       "1          fffe3700360033003500  ...      0.36\n",
       "2      fffe31003300320037003900  ...      0.49\n",
       "3      fffe32003400380032003900  ...      0.20\n",
       "4      fffe31003900340031003600  ...      0.52\n",
       "...                         ...  ...       ...\n",
       "22745  fffe31003500370039003100  ...      0.41\n",
       "22746  fffe33003000350031003800  ...      0.59\n",
       "22747          fffe390032003000  ...      0.72\n",
       "22748  fffe33003300320036003900  ...      0.52\n",
       "22749      fffe3400350031003800  ...      0.61\n",
       "\n",
       "[22750 rows x 9 columns]"
      ]
     },
     "execution_count": 164,
     "metadata": {
      "tags": []
     },
     "output_type": "execute_result"
    }
   ],
   "source": [
    "train"
   ]
  },
  {
   "cell_type": "code",
   "execution_count": 165,
   "metadata": {
    "colab": {
     "base_uri": "https://localhost:8080/",
     "height": 436
    },
    "id": "8Yunr2gUM2iV",
    "outputId": "27ee3740-9295-4c27-acdb-9eb84fd70ebe"
   },
   "outputs": [
    {
     "data": {
      "text/html": [
       "<div>\n",
       "<style scoped>\n",
       "    .dataframe tbody tr th:only-of-type {\n",
       "        vertical-align: middle;\n",
       "    }\n",
       "\n",
       "    .dataframe tbody tr th {\n",
       "        vertical-align: top;\n",
       "    }\n",
       "\n",
       "    .dataframe thead th {\n",
       "        text-align: right;\n",
       "    }\n",
       "</style>\n",
       "<table border=\"1\" class=\"dataframe\">\n",
       "  <thead>\n",
       "    <tr style=\"text-align: right;\">\n",
       "      <th></th>\n",
       "      <th>Employee ID</th>\n",
       "      <th>Date of Joining</th>\n",
       "      <th>Gender</th>\n",
       "      <th>Company Type</th>\n",
       "      <th>WFH Setup Available</th>\n",
       "      <th>Designation</th>\n",
       "      <th>Resource Allocation</th>\n",
       "      <th>Mental Fatigue Score</th>\n",
       "      <th>Burn Rate</th>\n",
       "    </tr>\n",
       "  </thead>\n",
       "  <tbody>\n",
       "    <tr>\n",
       "      <th>0</th>\n",
       "      <td>fffe32003000360033003200</td>\n",
       "      <td>2008-09-30</td>\n",
       "      <td>Female</td>\n",
       "      <td>Service</td>\n",
       "      <td>No</td>\n",
       "      <td>2.0</td>\n",
       "      <td>3.0</td>\n",
       "      <td>3.8</td>\n",
       "      <td>0.16</td>\n",
       "    </tr>\n",
       "    <tr>\n",
       "      <th>1</th>\n",
       "      <td>fffe3700360033003500</td>\n",
       "      <td>2008-11-30</td>\n",
       "      <td>Male</td>\n",
       "      <td>Service</td>\n",
       "      <td>Yes</td>\n",
       "      <td>1.0</td>\n",
       "      <td>2.0</td>\n",
       "      <td>5.0</td>\n",
       "      <td>0.36</td>\n",
       "    </tr>\n",
       "    <tr>\n",
       "      <th>3</th>\n",
       "      <td>fffe32003400380032003900</td>\n",
       "      <td>2008-11-03</td>\n",
       "      <td>Male</td>\n",
       "      <td>Service</td>\n",
       "      <td>Yes</td>\n",
       "      <td>1.0</td>\n",
       "      <td>1.0</td>\n",
       "      <td>2.6</td>\n",
       "      <td>0.20</td>\n",
       "    </tr>\n",
       "    <tr>\n",
       "      <th>4</th>\n",
       "      <td>fffe31003900340031003600</td>\n",
       "      <td>2008-07-24</td>\n",
       "      <td>Female</td>\n",
       "      <td>Service</td>\n",
       "      <td>No</td>\n",
       "      <td>3.0</td>\n",
       "      <td>7.0</td>\n",
       "      <td>6.9</td>\n",
       "      <td>0.52</td>\n",
       "    </tr>\n",
       "    <tr>\n",
       "      <th>5</th>\n",
       "      <td>fffe3300350037003500</td>\n",
       "      <td>2008-11-26</td>\n",
       "      <td>Male</td>\n",
       "      <td>Product</td>\n",
       "      <td>Yes</td>\n",
       "      <td>2.0</td>\n",
       "      <td>4.0</td>\n",
       "      <td>3.6</td>\n",
       "      <td>0.29</td>\n",
       "    </tr>\n",
       "    <tr>\n",
       "      <th>...</th>\n",
       "      <td>...</td>\n",
       "      <td>...</td>\n",
       "      <td>...</td>\n",
       "      <td>...</td>\n",
       "      <td>...</td>\n",
       "      <td>...</td>\n",
       "      <td>...</td>\n",
       "      <td>...</td>\n",
       "      <td>...</td>\n",
       "    </tr>\n",
       "    <tr>\n",
       "      <th>22743</th>\n",
       "      <td>fffe3300390030003600</td>\n",
       "      <td>2008-12-15</td>\n",
       "      <td>Female</td>\n",
       "      <td>Product</td>\n",
       "      <td>Yes</td>\n",
       "      <td>1.0</td>\n",
       "      <td>3.0</td>\n",
       "      <td>6.0</td>\n",
       "      <td>0.48</td>\n",
       "    </tr>\n",
       "    <tr>\n",
       "      <th>22744</th>\n",
       "      <td>fffe32003500370033003200</td>\n",
       "      <td>2008-05-27</td>\n",
       "      <td>Male</td>\n",
       "      <td>Product</td>\n",
       "      <td>No</td>\n",
       "      <td>3.0</td>\n",
       "      <td>7.0</td>\n",
       "      <td>6.2</td>\n",
       "      <td>0.54</td>\n",
       "    </tr>\n",
       "    <tr>\n",
       "      <th>22746</th>\n",
       "      <td>fffe33003000350031003800</td>\n",
       "      <td>2008-01-19</td>\n",
       "      <td>Female</td>\n",
       "      <td>Product</td>\n",
       "      <td>Yes</td>\n",
       "      <td>3.0</td>\n",
       "      <td>6.0</td>\n",
       "      <td>6.7</td>\n",
       "      <td>0.59</td>\n",
       "    </tr>\n",
       "    <tr>\n",
       "      <th>22748</th>\n",
       "      <td>fffe33003300320036003900</td>\n",
       "      <td>2008-01-10</td>\n",
       "      <td>Female</td>\n",
       "      <td>Service</td>\n",
       "      <td>No</td>\n",
       "      <td>2.0</td>\n",
       "      <td>5.0</td>\n",
       "      <td>5.9</td>\n",
       "      <td>0.52</td>\n",
       "    </tr>\n",
       "    <tr>\n",
       "      <th>22749</th>\n",
       "      <td>fffe3400350031003800</td>\n",
       "      <td>2008-01-06</td>\n",
       "      <td>Male</td>\n",
       "      <td>Product</td>\n",
       "      <td>No</td>\n",
       "      <td>3.0</td>\n",
       "      <td>6.0</td>\n",
       "      <td>7.8</td>\n",
       "      <td>0.61</td>\n",
       "    </tr>\n",
       "  </tbody>\n",
       "</table>\n",
       "<p>18590 rows × 9 columns</p>\n",
       "</div>"
      ],
      "text/plain": [
       "                    Employee ID  ... Burn Rate\n",
       "0      fffe32003000360033003200  ...      0.16\n",
       "1          fffe3700360033003500  ...      0.36\n",
       "3      fffe32003400380032003900  ...      0.20\n",
       "4      fffe31003900340031003600  ...      0.52\n",
       "5          fffe3300350037003500  ...      0.29\n",
       "...                         ...  ...       ...\n",
       "22743      fffe3300390030003600  ...      0.48\n",
       "22744  fffe32003500370033003200  ...      0.54\n",
       "22746  fffe33003000350031003800  ...      0.59\n",
       "22748  fffe33003300320036003900  ...      0.52\n",
       "22749      fffe3400350031003800  ...      0.61\n",
       "\n",
       "[18590 rows x 9 columns]"
      ]
     },
     "execution_count": 165,
     "metadata": {
      "tags": []
     },
     "output_type": "execute_result"
    }
   ],
   "source": [
    "train = train.dropna()\n",
    "train"
   ]
  },
  {
   "cell_type": "code",
   "execution_count": 166,
   "metadata": {
    "id": "2-1sizAuzSxa"
   },
   "outputs": [],
   "source": [
    "data_columns = [ 'Gender'\n",
    "                , 'Company Type'\n",
    "                , 'WFH Setup Available'\n",
    "                , 'Designation'\n",
    "                , 'Resource Allocation'\n",
    "                , 'Mental Fatigue Score'\n",
    "                , 'Burn Rate'\n",
    "               ]\n",
    "\n",
    "train_df = train[data_columns]\n"
   ]
  },
  {
   "cell_type": "code",
   "execution_count": 167,
   "metadata": {
    "colab": {
     "base_uri": "https://localhost:8080/"
    },
    "id": "IkVd2RO1Wjoc",
    "outputId": "de7abf1c-338b-42d4-c0c1-7000d847a926"
   },
   "outputs": [
    {
     "name": "stdout",
     "output_type": "stream",
     "text": [
      "processing train: 16769 rows x 7 columns\n",
      "processing test: 1821 rows x 7 columns\n"
     ]
    },
    {
     "name": "stderr",
     "output_type": "stream",
     "text": [
      "/usr/local/lib/python3.6/dist-packages/ktrain/utils.py:580: UserWarning: Task is being treated as REGRESSION because either class_names argument was not supplied or is_regression=True. If this is incorrect, change accordingly.\n",
      "  'If this is incorrect, change accordingly.')\n"
     ]
    }
   ],
   "source": [
    "trn, val, preproc = tabular.tabular_from_df(train_df, label_columns=['Burn Rate'], random_state=42, is_regression=True )"
   ]
  },
  {
   "cell_type": "markdown",
   "metadata": {
    "id": "d8wC53pM8U2y"
   },
   "source": [
    "## STEP 2: Create a Model and Wrap in Learner"
   ]
  },
  {
   "cell_type": "code",
   "execution_count": 168,
   "metadata": {
    "colab": {
     "base_uri": "https://localhost:8080/"
    },
    "id": "Qbo0Jhplzgax",
    "outputId": "9db15172-ec1e-4c33-bf28-ce1396404597"
   },
   "outputs": [
    {
     "name": "stdout",
     "output_type": "stream",
     "text": [
      "mlp: a configurable multilayer perceptron with categorical variable embeddings [https://arxiv.org/abs/1604.06737]\n"
     ]
    }
   ],
   "source": [
    "tabular.print_tabular_regression_models()"
   ]
  },
  {
   "cell_type": "code",
   "execution_count": 169,
   "metadata": {
    "colab": {
     "base_uri": "https://localhost:8080/"
    },
    "id": "x7bm1mrXzgL8",
    "outputId": "080aeee5-bcd8-4e01-f12e-eb0ba6b80591"
   },
   "outputs": [
    {
     "name": "stdout",
     "output_type": "stream",
     "text": [
      "done.\n"
     ]
    }
   ],
   "source": [
    "model = tabular.tabular_regression_model('mlp', trn, metrics=[tf.keras.metrics.RootMeanSquaredError()])\n",
    "learner = ktrain.get_learner(model, train_data=trn, val_data=val, batch_size=256)"
   ]
  },
  {
   "cell_type": "markdown",
   "metadata": {
    "id": "EZQ5TC-QWjps"
   },
   "source": [
    "## STEP 3: Train the Model"
   ]
  },
  {
   "cell_type": "code",
   "execution_count": 170,
   "metadata": {
    "id": "w5AxPRlg0E1d"
   },
   "outputs": [],
   "source": [
    "#learner.lr_find(max_epochs=25)\n",
    "#learner.lr_plot()"
   ]
  },
  {
   "cell_type": "code",
   "execution_count": 171,
   "metadata": {
    "colab": {
     "base_uri": "https://localhost:8080/"
    },
    "id": "a98YFvifNgB5",
    "outputId": "5c8786ca-7d73-4396-e25e-8ced9a2ac168",
    "scrolled": true
   },
   "outputs": [
    {
     "name": "stdout",
     "output_type": "stream",
     "text": [
      "\n",
      "\n",
      "begin training using onecycle policy with max lr of 0.004...\n",
      "Epoch 1/35\n",
      "66/66 [==============================] - 3s 38ms/step - loss: 0.0312 - root_mean_squared_error: 0.1767 - val_loss: 0.0061 - val_root_mean_squared_error: 0.0778\n",
      "Epoch 2/35\n",
      "66/66 [==============================] - 2s 37ms/step - loss: 0.0035 - root_mean_squared_error: 0.0595 - val_loss: 0.0031 - val_root_mean_squared_error: 0.0561\n",
      "Epoch 3/35\n",
      "66/66 [==============================] - 2s 37ms/step - loss: 0.0029 - root_mean_squared_error: 0.0537 - val_loss: 0.0030 - val_root_mean_squared_error: 0.0550\n",
      "Epoch 4/35\n",
      "66/66 [==============================] - 2s 37ms/step - loss: 0.0029 - root_mean_squared_error: 0.0541 - val_loss: 0.0031 - val_root_mean_squared_error: 0.0555\n",
      "Epoch 5/35\n",
      "66/66 [==============================] - 2s 37ms/step - loss: 0.0030 - root_mean_squared_error: 0.0545 - val_loss: 0.0031 - val_root_mean_squared_error: 0.0558\n",
      "Epoch 6/35\n",
      "66/66 [==============================] - 2s 37ms/step - loss: 0.0028 - root_mean_squared_error: 0.0534 - val_loss: 0.0032 - val_root_mean_squared_error: 0.0563\n",
      "Epoch 7/35\n",
      "66/66 [==============================] - 2s 37ms/step - loss: 0.0030 - root_mean_squared_error: 0.0552 - val_loss: 0.0031 - val_root_mean_squared_error: 0.0553\n",
      "Epoch 8/35\n",
      "66/66 [==============================] - 2s 37ms/step - loss: 0.0030 - root_mean_squared_error: 0.0550 - val_loss: 0.0030 - val_root_mean_squared_error: 0.0550\n",
      "Epoch 9/35\n",
      "66/66 [==============================] - 2s 37ms/step - loss: 0.0030 - root_mean_squared_error: 0.0552 - val_loss: 0.0031 - val_root_mean_squared_error: 0.0553\n",
      "Epoch 10/35\n",
      "66/66 [==============================] - 2s 37ms/step - loss: 0.0030 - root_mean_squared_error: 0.0546 - val_loss: 0.0031 - val_root_mean_squared_error: 0.0559\n",
      "Epoch 11/35\n",
      "66/66 [==============================] - 2s 37ms/step - loss: 0.0031 - root_mean_squared_error: 0.0555 - val_loss: 0.0033 - val_root_mean_squared_error: 0.0570\n",
      "Epoch 12/35\n",
      "66/66 [==============================] - 2s 37ms/step - loss: 0.0030 - root_mean_squared_error: 0.0547 - val_loss: 0.0033 - val_root_mean_squared_error: 0.0577\n",
      "Epoch 13/35\n",
      "66/66 [==============================] - 2s 37ms/step - loss: 0.0030 - root_mean_squared_error: 0.0546 - val_loss: 0.0031 - val_root_mean_squared_error: 0.0554\n",
      "Epoch 14/35\n",
      "66/66 [==============================] - 2s 37ms/step - loss: 0.0030 - root_mean_squared_error: 0.0549 - val_loss: 0.0039 - val_root_mean_squared_error: 0.0622\n",
      "Epoch 15/35\n",
      "66/66 [==============================] - 2s 37ms/step - loss: 0.0031 - root_mean_squared_error: 0.0553 - val_loss: 0.0030 - val_root_mean_squared_error: 0.0548\n",
      "Epoch 16/35\n",
      "66/66 [==============================] - 2s 37ms/step - loss: 0.0030 - root_mean_squared_error: 0.0547 - val_loss: 0.0030 - val_root_mean_squared_error: 0.0545\n",
      "Epoch 17/35\n",
      "66/66 [==============================] - 2s 37ms/step - loss: 0.0031 - root_mean_squared_error: 0.0555 - val_loss: 0.0032 - val_root_mean_squared_error: 0.0566\n",
      "Epoch 18/35\n",
      "66/66 [==============================] - 2s 37ms/step - loss: 0.0029 - root_mean_squared_error: 0.0542 - val_loss: 0.0033 - val_root_mean_squared_error: 0.0576\n",
      "Epoch 19/35\n",
      "66/66 [==============================] - 2s 37ms/step - loss: 0.0030 - root_mean_squared_error: 0.0548 - val_loss: 0.0030 - val_root_mean_squared_error: 0.0546\n",
      "Epoch 20/35\n",
      "66/66 [==============================] - 2s 37ms/step - loss: 0.0029 - root_mean_squared_error: 0.0538 - val_loss: 0.0029 - val_root_mean_squared_error: 0.0541\n",
      "Epoch 21/35\n",
      "66/66 [==============================] - 2s 38ms/step - loss: 0.0029 - root_mean_squared_error: 0.0534 - val_loss: 0.0029 - val_root_mean_squared_error: 0.0542\n",
      "Epoch 22/35\n",
      "66/66 [==============================] - 2s 38ms/step - loss: 0.0028 - root_mean_squared_error: 0.0533 - val_loss: 0.0031 - val_root_mean_squared_error: 0.0556\n",
      "Epoch 23/35\n",
      "66/66 [==============================] - 3s 38ms/step - loss: 0.0029 - root_mean_squared_error: 0.0534 - val_loss: 0.0030 - val_root_mean_squared_error: 0.0548\n",
      "Epoch 24/35\n",
      "66/66 [==============================] - 2s 37ms/step - loss: 0.0029 - root_mean_squared_error: 0.0534 - val_loss: 0.0029 - val_root_mean_squared_error: 0.0543\n",
      "Epoch 25/35\n",
      "66/66 [==============================] - 2s 37ms/step - loss: 0.0028 - root_mean_squared_error: 0.0528 - val_loss: 0.0029 - val_root_mean_squared_error: 0.0541\n",
      "Epoch 26/35\n",
      "66/66 [==============================] - 2s 37ms/step - loss: 0.0028 - root_mean_squared_error: 0.0527 - val_loss: 0.0030 - val_root_mean_squared_error: 0.0547\n",
      "Epoch 27/35\n",
      "66/66 [==============================] - 2s 37ms/step - loss: 0.0028 - root_mean_squared_error: 0.0525 - val_loss: 0.0029 - val_root_mean_squared_error: 0.0539\n",
      "Epoch 28/35\n",
      "66/66 [==============================] - 2s 37ms/step - loss: 0.0028 - root_mean_squared_error: 0.0525 - val_loss: 0.0030 - val_root_mean_squared_error: 0.0552\n",
      "Epoch 29/35\n",
      "66/66 [==============================] - 2s 37ms/step - loss: 0.0028 - root_mean_squared_error: 0.0528 - val_loss: 0.0029 - val_root_mean_squared_error: 0.0541\n",
      "Epoch 30/35\n",
      "66/66 [==============================] - 2s 37ms/step - loss: 0.0027 - root_mean_squared_error: 0.0521 - val_loss: 0.0029 - val_root_mean_squared_error: 0.0542\n",
      "Epoch 31/35\n",
      "66/66 [==============================] - 2s 37ms/step - loss: 0.0027 - root_mean_squared_error: 0.0519 - val_loss: 0.0029 - val_root_mean_squared_error: 0.0543\n",
      "Epoch 32/35\n",
      "66/66 [==============================] - 2s 37ms/step - loss: 0.0027 - root_mean_squared_error: 0.0522 - val_loss: 0.0029 - val_root_mean_squared_error: 0.0540\n",
      "Epoch 33/35\n",
      "66/66 [==============================] - 2s 37ms/step - loss: 0.0027 - root_mean_squared_error: 0.0517 - val_loss: 0.0029 - val_root_mean_squared_error: 0.0538\n",
      "Epoch 34/35\n",
      "66/66 [==============================] - 2s 38ms/step - loss: 0.0027 - root_mean_squared_error: 0.0517 - val_loss: 0.0029 - val_root_mean_squared_error: 0.0543\n",
      "Epoch 35/35\n",
      "66/66 [==============================] - 2s 37ms/step - loss: 0.0027 - root_mean_squared_error: 0.0516 - val_loss: 0.0029 - val_root_mean_squared_error: 0.0538\n"
     ]
    },
    {
     "data": {
      "text/plain": [
       "<tensorflow.python.keras.callbacks.History at 0x7f8033c6b048>"
      ]
     },
     "execution_count": 171,
     "metadata": {
      "tags": []
     },
     "output_type": "execute_result"
    }
   ],
   "source": [
    "learner.fit_onecycle(4e-3, 35)"
   ]
  },
  {
   "cell_type": "markdown",
   "metadata": {
    "id": "I2pZv3as9CNx"
   },
   "source": [
    "## Step 4:  Prediction and Submission"
   ]
  },
  {
   "cell_type": "code",
   "execution_count": 172,
   "metadata": {
    "id": "xYg1xn3o3r21"
   },
   "outputs": [],
   "source": [
    "test_df = test[data_columns[:-1]]"
   ]
  },
  {
   "cell_type": "code",
   "execution_count": 173,
   "metadata": {
    "id": "NgRIegCqOh4o"
   },
   "outputs": [],
   "source": [
    "predictor = ktrain.get_predictor(learner.model, preproc)\n",
    "preds = predictor.predict(test_df)"
   ]
  },
  {
   "cell_type": "code",
   "execution_count": 174,
   "metadata": {
    "id": "-k2s0lvmSA5X"
   },
   "outputs": [],
   "source": [
    "submission = pd.DataFrame(test['Employee ID'])\n",
    "submission['Burn Rate'] = preds"
   ]
  },
  {
   "cell_type": "code",
   "execution_count": 175,
   "metadata": {
    "colab": {
     "base_uri": "https://localhost:8080/",
     "height": 419
    },
    "id": "Ok8TWVS3gKQy",
    "outputId": "335c60e9-36f6-4568-d0b8-7102a6741dbc"
   },
   "outputs": [
    {
     "data": {
      "text/html": [
       "<div>\n",
       "<style scoped>\n",
       "    .dataframe tbody tr th:only-of-type {\n",
       "        vertical-align: middle;\n",
       "    }\n",
       "\n",
       "    .dataframe tbody tr th {\n",
       "        vertical-align: top;\n",
       "    }\n",
       "\n",
       "    .dataframe thead th {\n",
       "        text-align: right;\n",
       "    }\n",
       "</style>\n",
       "<table border=\"1\" class=\"dataframe\">\n",
       "  <thead>\n",
       "    <tr style=\"text-align: right;\">\n",
       "      <th></th>\n",
       "      <th>Employee ID</th>\n",
       "      <th>Burn Rate</th>\n",
       "    </tr>\n",
       "  </thead>\n",
       "  <tbody>\n",
       "    <tr>\n",
       "      <th>0</th>\n",
       "      <td>fffe31003300390039003000</td>\n",
       "      <td>0.613920</td>\n",
       "    </tr>\n",
       "    <tr>\n",
       "      <th>1</th>\n",
       "      <td>fffe31003300310037003800</td>\n",
       "      <td>0.362055</td>\n",
       "    </tr>\n",
       "    <tr>\n",
       "      <th>2</th>\n",
       "      <td>fffe33003400380035003900</td>\n",
       "      <td>0.426462</td>\n",
       "    </tr>\n",
       "    <tr>\n",
       "      <th>3</th>\n",
       "      <td>fffe3100370039003200</td>\n",
       "      <td>0.377067</td>\n",
       "    </tr>\n",
       "    <tr>\n",
       "      <th>4</th>\n",
       "      <td>fffe32003600390036003700</td>\n",
       "      <td>0.532387</td>\n",
       "    </tr>\n",
       "    <tr>\n",
       "      <th>...</th>\n",
       "      <td>...</td>\n",
       "      <td>...</td>\n",
       "    </tr>\n",
       "    <tr>\n",
       "      <th>12245</th>\n",
       "      <td>fffe3900310034003700</td>\n",
       "      <td>0.428519</td>\n",
       "    </tr>\n",
       "    <tr>\n",
       "      <th>12246</th>\n",
       "      <td>fffe32003600330034003000</td>\n",
       "      <td>0.429114</td>\n",
       "    </tr>\n",
       "    <tr>\n",
       "      <th>12247</th>\n",
       "      <td>fffe31003800340039003000</td>\n",
       "      <td>0.830870</td>\n",
       "    </tr>\n",
       "    <tr>\n",
       "      <th>12248</th>\n",
       "      <td>fffe32003600380031003800</td>\n",
       "      <td>0.577155</td>\n",
       "    </tr>\n",
       "    <tr>\n",
       "      <th>12249</th>\n",
       "      <td>fffe32003100390037003800</td>\n",
       "      <td>0.117728</td>\n",
       "    </tr>\n",
       "  </tbody>\n",
       "</table>\n",
       "<p>12250 rows × 2 columns</p>\n",
       "</div>"
      ],
      "text/plain": [
       "                    Employee ID  Burn Rate\n",
       "0      fffe31003300390039003000   0.613920\n",
       "1      fffe31003300310037003800   0.362055\n",
       "2      fffe33003400380035003900   0.426462\n",
       "3          fffe3100370039003200   0.377067\n",
       "4      fffe32003600390036003700   0.532387\n",
       "...                         ...        ...\n",
       "12245      fffe3900310034003700   0.428519\n",
       "12246  fffe32003600330034003000   0.429114\n",
       "12247  fffe31003800340039003000   0.830870\n",
       "12248  fffe32003600380031003800   0.577155\n",
       "12249  fffe32003100390037003800   0.117728\n",
       "\n",
       "[12250 rows x 2 columns]"
      ]
     },
     "execution_count": 175,
     "metadata": {
      "tags": []
     },
     "output_type": "execute_result"
    }
   ],
   "source": [
    "submission"
   ]
  },
  {
   "cell_type": "code",
   "execution_count": 176,
   "metadata": {
    "id": "gP2DZINrfY6e"
   },
   "outputs": [],
   "source": [
    "\n",
    "with open('KT_submission.csv', 'w') as f:\n",
    "    submission.to_csv(f, index=False, header=True) \n"
   ]
  },
  {
   "cell_type": "markdown",
   "metadata": {
    "id": "XfNyRQneAGTK"
   },
   "source": [
    "## To download the generated csv in colab run the below command\n"
   ]
  },
  {
   "cell_type": "code",
   "execution_count": 177,
   "metadata": {
    "colab": {
     "base_uri": "https://localhost:8080/",
     "height": 17
    },
    "id": "Fq2410xgATVf",
    "outputId": "0ab800f0-bf89-4856-f655-68dd281dc084"
   },
   "outputs": [
    {
     "data": {
      "application/javascript": [
       "\n",
       "    async function download(id, filename, size) {\n",
       "      if (!google.colab.kernel.accessAllowed) {\n",
       "        return;\n",
       "      }\n",
       "      const div = document.createElement('div');\n",
       "      const label = document.createElement('label');\n",
       "      label.textContent = `Downloading \"${filename}\": `;\n",
       "      div.appendChild(label);\n",
       "      const progress = document.createElement('progress');\n",
       "      progress.max = size;\n",
       "      div.appendChild(progress);\n",
       "      document.body.appendChild(div);\n",
       "\n",
       "      const buffers = [];\n",
       "      let downloaded = 0;\n",
       "\n",
       "      const channel = await google.colab.kernel.comms.open(id);\n",
       "      // Send a message to notify the kernel that we're ready.\n",
       "      channel.send({})\n",
       "\n",
       "      for await (const message of channel.messages) {\n",
       "        // Send a message to notify the kernel that we're ready.\n",
       "        channel.send({})\n",
       "        if (message.buffers) {\n",
       "          for (const buffer of message.buffers) {\n",
       "            buffers.push(buffer);\n",
       "            downloaded += buffer.byteLength;\n",
       "            progress.value = downloaded;\n",
       "          }\n",
       "        }\n",
       "      }\n",
       "      const blob = new Blob(buffers, {type: 'application/binary'});\n",
       "      const a = document.createElement('a');\n",
       "      a.href = window.URL.createObjectURL(blob);\n",
       "      a.download = filename;\n",
       "      div.appendChild(a);\n",
       "      a.click();\n",
       "      div.remove();\n",
       "    }\n",
       "  "
      ],
      "text/plain": [
       "<IPython.core.display.Javascript object>"
      ]
     },
     "metadata": {
      "tags": []
     },
     "output_type": "display_data"
    },
    {
     "data": {
      "application/javascript": [
       "download(\"download_ee61c0ae-cdea-4354-9b79-8f6c76dafab4\", \"KT_submission.csv\", 420333)"
      ],
      "text/plain": [
       "<IPython.core.display.Javascript object>"
      ]
     },
     "metadata": {
      "tags": []
     },
     "output_type": "display_data"
    }
   ],
   "source": [
    "try:\n",
    "  from google.colab import files\n",
    "  files.download('KT_submission.csv')\n",
    "except ImportError as e:\n",
    "  print(\"Only for Colab\") "
   ]
  }
 ],
 "metadata": {
  "colab": {
   "collapsed_sections": [],
   "name": "Burn_KT_Tab_Regression_final.ipynb",
   "provenance": []
  },
  "kernelspec": {
   "display_name": "Python 3",
   "language": "python",
   "name": "python3"
  },
  "language_info": {
   "codemirror_mode": {
    "name": "ipython",
    "version": 3
   },
   "file_extension": ".py",
   "mimetype": "text/x-python",
   "name": "python",
   "nbconvert_exporter": "python",
   "pygments_lexer": "ipython3",
   "version": "3.8.3"
  }
 },
 "nbformat": 4,
 "nbformat_minor": 1
}
